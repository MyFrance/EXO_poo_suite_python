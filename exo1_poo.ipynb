{
 "cells": [
  {
   "cell_type": "code",
   "execution_count": 1,
   "id": "54ecf99e",
   "metadata": {
    "ExecuteTime": {
     "end_time": "2022-12-02T14:18:37.124056Z",
     "start_time": "2022-12-02T14:18:37.113078Z"
    }
   },
   "outputs": [],
   "source": [
    "# Le but de se exercice est de déterminer les étudiants ayant gagnés et ceux qui on échoués.\n",
    "# Pour cela nous allons créer une classe étudiants avec les caractériques non et moyenne.\n",
    "# Les étudiants ayant obtenus une moyenne de 15 seront considérés comme admis"
   ]
  },
  {
   "cell_type": "code",
   "execution_count": 6,
   "id": "e1f7bb7d",
   "metadata": {
    "ExecuteTime": {
     "end_time": "2022-12-02T14:19:04.850178Z",
     "start_time": "2022-12-02T14:19:04.841205Z"
    }
   },
   "outputs": [],
   "source": [
    "class Etudiants:\n",
    "    def __init__(self, nom, notes):\n",
    "        self.nom = nom\n",
    "        self.notes = notes\n",
    "        \n",
    "    def moyenne(self):\n",
    "        if self.notes >=15:\n",
    "            return \"Admin\"\n",
    "        else: \n",
    "            return \"Echoue\""
   ]
  },
  {
   "cell_type": "code",
   "execution_count": 7,
   "id": "8554703f",
   "metadata": {
    "ExecuteTime": {
     "end_time": "2022-12-02T14:19:07.913280Z",
     "start_time": "2022-12-02T14:19:07.897324Z"
    }
   },
   "outputs": [],
   "source": [
    "# Voici les étudiants avec leur moyenne\n",
    "etudiant1 = Etudiants(\"Marc\", 12)\n",
    "etudiant2 = Etudiants(\"Mathieu\", 14.5)\n",
    "etudiant3 = Etudiants(\"Monique\", 15)\n",
    "etudiant4 = Etudiants(\"Christelle\", 18)\n",
    "etudiant5 = Etudiants(\"Jeanne\", 19)"
   ]
  },
  {
   "cell_type": "code",
   "execution_count": 8,
   "id": "af08be23",
   "metadata": {
    "ExecuteTime": {
     "end_time": "2022-12-02T14:19:09.798242Z",
     "start_time": "2022-12-02T14:19:09.784758Z"
    }
   },
   "outputs": [],
   "source": [
    "# On regroupe les étudiants dans une liste\n",
    "etudiants = [etudiant1, etudiant2, etudiant3, etudiant4, etudiant5]"
   ]
  },
  {
   "cell_type": "code",
   "execution_count": 12,
   "id": "c17e5949",
   "metadata": {
    "ExecuteTime": {
     "end_time": "2022-12-02T14:25:39.201504Z",
     "start_time": "2022-12-02T14:25:39.180037Z"
    }
   },
   "outputs": [
    {
     "name": "stdout",
     "output_type": "stream",
     "text": [
      "{'Etudiant ayant échoués': ['Marc', 'Mathieu'], 'Etudiants ayant gagnés : ': ['Monique', 'Christelle', 'Jeanne']}\n"
     ]
    }
   ],
   "source": [
    "liste_etudiants_gagnes = []\n",
    "liste_etudiants_echoues = []\n",
    "dico_gagnes_perdu = {}\n",
    "\n",
    "for etudiant in etudiants: \n",
    "    if etudiant.moyenne() == \"Admin\":\n",
    "        liste_etudiants_gagnes.append(etudiant.nom)\n",
    "        dico_gagnes_perdu[\"Etudiants ayant gagnés : \"] = liste_etudiants_gagnes\n",
    "    else: \n",
    "        etudiant.moyenne() == \"Echoue\"\n",
    "        liste_etudiants_echoues.append(etudiant.nom)\n",
    "        dico_gagnes_perdu[\"Etudiant ayant échoués\"] = liste_etudiants_echoues\n",
    "        \n",
    "        \n",
    "print(dico_gagnes_perdu)     "
   ]
  },
  {
   "cell_type": "code",
   "execution_count": null,
   "id": "512a0a5d",
   "metadata": {},
   "outputs": [],
   "source": []
  }
 ],
 "metadata": {
  "kernelspec": {
   "display_name": "Python 3",
   "language": "python",
   "name": "python3"
  },
  "language_info": {
   "codemirror_mode": {
    "name": "ipython",
    "version": 3
   },
   "file_extension": ".py",
   "mimetype": "text/x-python",
   "name": "python",
   "nbconvert_exporter": "python",
   "pygments_lexer": "ipython3",
   "version": "3.8.8"
  },
  "toc": {
   "base_numbering": 1,
   "nav_menu": {},
   "number_sections": true,
   "sideBar": true,
   "skip_h1_title": false,
   "title_cell": "Table of Contents",
   "title_sidebar": "Contents",
   "toc_cell": false,
   "toc_position": {},
   "toc_section_display": true,
   "toc_window_display": false
  }
 },
 "nbformat": 4,
 "nbformat_minor": 5
}
